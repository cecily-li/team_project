{
 "cells": [
  {
   "cell_type": "markdown",
   "metadata": {},
   "source": [
    "# Regression Analysis\n",
    "Learning from Imbalanced Insurance Data"
   ]
  },
  {
   "cell_type": "code",
   "execution_count": 300,
   "metadata": {},
   "outputs": [],
   "source": [
    "# import standard libraries & objects\n",
    "import numpy as np\n",
    "import pandas as pd\n",
    "import seaborn as sns\n",
    "from matplotlib.pyplot import subplots\n",
    "import statsmodels.api as sm\n",
    "import matplotlib.pyplot as plt\n",
    "from sklearn.linear_model import LinearRegression\n",
    "\n",
    "# from sklearn.preprocessing import StandardScaler\n",
    "\n",
    "# from statsmodels.stats.outliers_influence \\\n",
    "#      import variance_inflation_factor as VIF\n",
    "# from statsmodels.stats.anova import anova_lm\n",
    "\n",
    "from scipy.stats import skew, probplot\n",
    "\n",
    "# pip install imblearn\n",
    "from imblearn.over_sampling import SMOTE\n",
    "\n",
    "from sklearn.model_selection import train_test_split\n",
    "from sklearn.linear_model import LogisticRegression\n",
    "from sklearn.metrics import classification_report\n",
    "\n",
    "from sklearn.metrics import accuracy_score, precision_score, recall_score, f1_score, roc_auc_score"
   ]
  },
  {
   "cell_type": "markdown",
   "metadata": {},
   "source": [
    "## Understanding the Dataset"
   ]
  },
  {
   "cell_type": "code",
   "execution_count": 219,
   "metadata": {},
   "outputs": [
    {
     "data": {
      "text/html": [
       "<div>\n",
       "<style scoped>\n",
       "    .dataframe tbody tr th:only-of-type {\n",
       "        vertical-align: middle;\n",
       "    }\n",
       "\n",
       "    .dataframe tbody tr th {\n",
       "        vertical-align: top;\n",
       "    }\n",
       "\n",
       "    .dataframe thead th {\n",
       "        text-align: right;\n",
       "    }\n",
       "</style>\n",
       "<table border=\"1\" class=\"dataframe\">\n",
       "  <thead>\n",
       "    <tr style=\"text-align: right;\">\n",
       "      <th></th>\n",
       "      <th>id</th>\n",
       "      <th>Gender</th>\n",
       "      <th>Age</th>\n",
       "      <th>Driving_License</th>\n",
       "      <th>Region_Code</th>\n",
       "      <th>Previously_Insured</th>\n",
       "      <th>Vehicle_Age</th>\n",
       "      <th>Vehicle_Damage</th>\n",
       "      <th>Annual_Premium</th>\n",
       "      <th>Policy_Sales_Channel</th>\n",
       "      <th>Vintage</th>\n",
       "      <th>Response</th>\n",
       "    </tr>\n",
       "  </thead>\n",
       "  <tbody>\n",
       "    <tr>\n",
       "      <th>0</th>\n",
       "      <td>167647</td>\n",
       "      <td>Male</td>\n",
       "      <td>22</td>\n",
       "      <td>1</td>\n",
       "      <td>7.0</td>\n",
       "      <td>1</td>\n",
       "      <td>&lt; 1 Year</td>\n",
       "      <td>No</td>\n",
       "      <td>2630.0</td>\n",
       "      <td>152.0</td>\n",
       "      <td>16</td>\n",
       "      <td>0</td>\n",
       "    </tr>\n",
       "    <tr>\n",
       "      <th>1</th>\n",
       "      <td>17163</td>\n",
       "      <td>Male</td>\n",
       "      <td>42</td>\n",
       "      <td>1</td>\n",
       "      <td>28.0</td>\n",
       "      <td>0</td>\n",
       "      <td>1-2 Year</td>\n",
       "      <td>Yes</td>\n",
       "      <td>43327.0</td>\n",
       "      <td>26.0</td>\n",
       "      <td>135</td>\n",
       "      <td>0</td>\n",
       "    </tr>\n",
       "    <tr>\n",
       "      <th>2</th>\n",
       "      <td>32023</td>\n",
       "      <td>Female</td>\n",
       "      <td>66</td>\n",
       "      <td>1</td>\n",
       "      <td>33.0</td>\n",
       "      <td>0</td>\n",
       "      <td>1-2 Year</td>\n",
       "      <td>Yes</td>\n",
       "      <td>35841.0</td>\n",
       "      <td>124.0</td>\n",
       "      <td>253</td>\n",
       "      <td>0</td>\n",
       "    </tr>\n",
       "    <tr>\n",
       "      <th>3</th>\n",
       "      <td>87447</td>\n",
       "      <td>Female</td>\n",
       "      <td>22</td>\n",
       "      <td>1</td>\n",
       "      <td>33.0</td>\n",
       "      <td>0</td>\n",
       "      <td>&lt; 1 Year</td>\n",
       "      <td>No</td>\n",
       "      <td>27645.0</td>\n",
       "      <td>152.0</td>\n",
       "      <td>69</td>\n",
       "      <td>0</td>\n",
       "    </tr>\n",
       "    <tr>\n",
       "      <th>4</th>\n",
       "      <td>501933</td>\n",
       "      <td>Male</td>\n",
       "      <td>28</td>\n",
       "      <td>1</td>\n",
       "      <td>46.0</td>\n",
       "      <td>1</td>\n",
       "      <td>&lt; 1 Year</td>\n",
       "      <td>No</td>\n",
       "      <td>29023.0</td>\n",
       "      <td>152.0</td>\n",
       "      <td>211</td>\n",
       "      <td>0</td>\n",
       "    </tr>\n",
       "    <tr>\n",
       "      <th>...</th>\n",
       "      <td>...</td>\n",
       "      <td>...</td>\n",
       "      <td>...</td>\n",
       "      <td>...</td>\n",
       "      <td>...</td>\n",
       "      <td>...</td>\n",
       "      <td>...</td>\n",
       "      <td>...</td>\n",
       "      <td>...</td>\n",
       "      <td>...</td>\n",
       "      <td>...</td>\n",
       "      <td>...</td>\n",
       "    </tr>\n",
       "    <tr>\n",
       "      <th>382149</th>\n",
       "      <td>164549</td>\n",
       "      <td>Male</td>\n",
       "      <td>24</td>\n",
       "      <td>1</td>\n",
       "      <td>15.0</td>\n",
       "      <td>0</td>\n",
       "      <td>&lt; 1 Year</td>\n",
       "      <td>Yes</td>\n",
       "      <td>23938.0</td>\n",
       "      <td>152.0</td>\n",
       "      <td>105</td>\n",
       "      <td>0</td>\n",
       "    </tr>\n",
       "    <tr>\n",
       "      <th>382150</th>\n",
       "      <td>247064</td>\n",
       "      <td>Male</td>\n",
       "      <td>27</td>\n",
       "      <td>1</td>\n",
       "      <td>28.0</td>\n",
       "      <td>1</td>\n",
       "      <td>&lt; 1 Year</td>\n",
       "      <td>No</td>\n",
       "      <td>336395.0</td>\n",
       "      <td>152.0</td>\n",
       "      <td>144</td>\n",
       "      <td>0</td>\n",
       "    </tr>\n",
       "    <tr>\n",
       "      <th>382151</th>\n",
       "      <td>165293</td>\n",
       "      <td>Male</td>\n",
       "      <td>45</td>\n",
       "      <td>1</td>\n",
       "      <td>28.0</td>\n",
       "      <td>0</td>\n",
       "      <td>1-2 Year</td>\n",
       "      <td>Yes</td>\n",
       "      <td>40443.0</td>\n",
       "      <td>26.0</td>\n",
       "      <td>187</td>\n",
       "      <td>0</td>\n",
       "    </tr>\n",
       "    <tr>\n",
       "      <th>382152</th>\n",
       "      <td>383241</td>\n",
       "      <td>Female</td>\n",
       "      <td>28</td>\n",
       "      <td>1</td>\n",
       "      <td>28.0</td>\n",
       "      <td>1</td>\n",
       "      <td>&lt; 1 Year</td>\n",
       "      <td>No</td>\n",
       "      <td>25380.0</td>\n",
       "      <td>152.0</td>\n",
       "      <td>208</td>\n",
       "      <td>0</td>\n",
       "    </tr>\n",
       "    <tr>\n",
       "      <th>382153</th>\n",
       "      <td>401019</td>\n",
       "      <td>Female</td>\n",
       "      <td>29</td>\n",
       "      <td>1</td>\n",
       "      <td>18.0</td>\n",
       "      <td>1</td>\n",
       "      <td>&lt; 1 Year</td>\n",
       "      <td>No</td>\n",
       "      <td>30396.0</td>\n",
       "      <td>152.0</td>\n",
       "      <td>104</td>\n",
       "      <td>0</td>\n",
       "    </tr>\n",
       "  </tbody>\n",
       "</table>\n",
       "<p>382154 rows × 12 columns</p>\n",
       "</div>"
      ],
      "text/plain": [
       "            id  Gender  Age  Driving_License  Region_Code  Previously_Insured  \\\n",
       "0       167647    Male   22                1          7.0                   1   \n",
       "1        17163    Male   42                1         28.0                   0   \n",
       "2        32023  Female   66                1         33.0                   0   \n",
       "3        87447  Female   22                1         33.0                   0   \n",
       "4       501933    Male   28                1         46.0                   1   \n",
       "...        ...     ...  ...              ...          ...                 ...   \n",
       "382149  164549    Male   24                1         15.0                   0   \n",
       "382150  247064    Male   27                1         28.0                   1   \n",
       "382151  165293    Male   45                1         28.0                   0   \n",
       "382152  383241  Female   28                1         28.0                   1   \n",
       "382153  401019  Female   29                1         18.0                   1   \n",
       "\n",
       "       Vehicle_Age Vehicle_Damage  Annual_Premium  Policy_Sales_Channel  \\\n",
       "0         < 1 Year             No          2630.0                 152.0   \n",
       "1         1-2 Year            Yes         43327.0                  26.0   \n",
       "2         1-2 Year            Yes         35841.0                 124.0   \n",
       "3         < 1 Year             No         27645.0                 152.0   \n",
       "4         < 1 Year             No         29023.0                 152.0   \n",
       "...            ...            ...             ...                   ...   \n",
       "382149    < 1 Year            Yes         23938.0                 152.0   \n",
       "382150    < 1 Year             No        336395.0                 152.0   \n",
       "382151    1-2 Year            Yes         40443.0                  26.0   \n",
       "382152    < 1 Year             No         25380.0                 152.0   \n",
       "382153    < 1 Year             No         30396.0                 152.0   \n",
       "\n",
       "        Vintage  Response  \n",
       "0            16         0  \n",
       "1           135         0  \n",
       "2           253         0  \n",
       "3            69         0  \n",
       "4           211         0  \n",
       "...         ...       ...  \n",
       "382149      105         0  \n",
       "382150      144         0  \n",
       "382151      187         0  \n",
       "382152      208         0  \n",
       "382153      104         0  \n",
       "\n",
       "[382154 rows x 12 columns]"
      ]
     },
     "execution_count": 219,
     "metadata": {},
     "output_type": "execute_result"
    }
   ],
   "source": [
    "# load the CSV file into a dataframe\n",
    "df = pd.read_csv('G:/DSI/team_project/data/raw/aug_train.csv')\n",
    "df"
   ]
  },
  {
   "cell_type": "code",
   "execution_count": 220,
   "metadata": {},
   "outputs": [
    {
     "name": "stdout",
     "output_type": "stream",
     "text": [
      "<class 'pandas.core.frame.DataFrame'>\n",
      "RangeIndex: 382154 entries, 0 to 382153\n",
      "Data columns (total 12 columns):\n",
      " #   Column                Non-Null Count   Dtype  \n",
      "---  ------                --------------   -----  \n",
      " 0   id                    382154 non-null  int64  \n",
      " 1   Gender                382154 non-null  object \n",
      " 2   Age                   382154 non-null  int64  \n",
      " 3   Driving_License       382154 non-null  int64  \n",
      " 4   Region_Code           382154 non-null  float64\n",
      " 5   Previously_Insured    382154 non-null  int64  \n",
      " 6   Vehicle_Age           382154 non-null  object \n",
      " 7   Vehicle_Damage        382154 non-null  object \n",
      " 8   Annual_Premium        382154 non-null  float64\n",
      " 9   Policy_Sales_Channel  382154 non-null  float64\n",
      " 10  Vintage               382154 non-null  int64  \n",
      " 11  Response              382154 non-null  int64  \n",
      "dtypes: float64(3), int64(6), object(3)\n",
      "memory usage: 35.0+ MB\n",
      "None\n"
     ]
    }
   ],
   "source": [
    "# basic information about the dataframe\n",
    "print(df.info())"
   ]
  },
  {
   "cell_type": "code",
   "execution_count": 221,
   "metadata": {},
   "outputs": [
    {
     "name": "stdout",
     "output_type": "stream",
     "text": [
      "                  id            Age  Driving_License    Region_Code  \\\n",
      "count  382154.000000  382154.000000    382154.000000  382154.000000   \n",
      "mean   234392.953477      38.545691         0.998108      26.406867   \n",
      "std    139527.487326      15.226897         0.043455      13.181241   \n",
      "min         1.000000      20.000000         0.000000       0.000000   \n",
      "25%    115006.250000      25.000000         1.000000      15.000000   \n",
      "50%    230461.500000      36.000000         1.000000      28.000000   \n",
      "75%    345434.750000      49.000000         1.000000      35.000000   \n",
      "max    508145.000000      85.000000         1.000000      52.000000   \n",
      "\n",
      "       Previously_Insured  Annual_Premium  Policy_Sales_Channel  \\\n",
      "count       382154.000000   382154.000000         382154.000000   \n",
      "mean             0.489182    30711.271362            111.939812   \n",
      "std              0.499884    17061.595532             54.286511   \n",
      "min              0.000000     2630.000000              1.000000   \n",
      "25%              0.000000    24546.000000             26.000000   \n",
      "50%              0.000000    31692.000000            145.000000   \n",
      "75%              1.000000    39447.750000            152.000000   \n",
      "max              1.000000   540165.000000            163.000000   \n",
      "\n",
      "             Vintage       Response  \n",
      "count  382154.000000  382154.000000  \n",
      "mean      154.189429       0.163811  \n",
      "std        83.735107       0.370104  \n",
      "min        10.000000       0.000000  \n",
      "25%        81.000000       0.000000  \n",
      "50%       154.000000       0.000000  \n",
      "75%       227.000000       0.000000  \n",
      "max       299.000000       1.000000  \n"
     ]
    }
   ],
   "source": [
    "# summary statistic\n",
    "print(df.describe())"
   ]
  },
  {
   "cell_type": "code",
   "execution_count": 222,
   "metadata": {},
   "outputs": [],
   "source": [
    "# dropped column\n",
    "df = df.drop(['id'], axis=1)"
   ]
  },
  {
   "cell_type": "code",
   "execution_count": 223,
   "metadata": {},
   "outputs": [],
   "source": [
    "# convert integer and float columns to objects\n",
    "df = df.astype({'Driving_License': 'object',\n",
    "                'Region_Code' : 'object',\n",
    "                 'Previously_Insured' : 'object',\n",
    "                 'Policy_Sales_Channel' : 'object',\n",
    "                 'Response' : 'object'})"
   ]
  },
  {
   "cell_type": "code",
   "execution_count": 224,
   "metadata": {},
   "outputs": [
    {
     "data": {
      "text/html": [
       "<div>\n",
       "<style scoped>\n",
       "    .dataframe tbody tr th:only-of-type {\n",
       "        vertical-align: middle;\n",
       "    }\n",
       "\n",
       "    .dataframe tbody tr th {\n",
       "        vertical-align: top;\n",
       "    }\n",
       "\n",
       "    .dataframe thead th {\n",
       "        text-align: right;\n",
       "    }\n",
       "</style>\n",
       "<table border=\"1\" class=\"dataframe\">\n",
       "  <thead>\n",
       "    <tr style=\"text-align: right;\">\n",
       "      <th></th>\n",
       "      <th>Gender</th>\n",
       "      <th>Driving_License</th>\n",
       "      <th>Region_Code</th>\n",
       "      <th>Previously_Insured</th>\n",
       "      <th>Vehicle_Age</th>\n",
       "      <th>Vehicle_Damage</th>\n",
       "      <th>Policy_Sales_Channel</th>\n",
       "      <th>Response</th>\n",
       "    </tr>\n",
       "  </thead>\n",
       "  <tbody>\n",
       "    <tr>\n",
       "      <th>count</th>\n",
       "      <td>382154</td>\n",
       "      <td>382154</td>\n",
       "      <td>382154.0</td>\n",
       "      <td>382154</td>\n",
       "      <td>382154</td>\n",
       "      <td>382154</td>\n",
       "      <td>382154.0</td>\n",
       "      <td>382154</td>\n",
       "    </tr>\n",
       "    <tr>\n",
       "      <th>unique</th>\n",
       "      <td>2</td>\n",
       "      <td>2</td>\n",
       "      <td>53.0</td>\n",
       "      <td>2</td>\n",
       "      <td>3</td>\n",
       "      <td>2</td>\n",
       "      <td>156.0</td>\n",
       "      <td>2</td>\n",
       "    </tr>\n",
       "    <tr>\n",
       "      <th>top</th>\n",
       "      <td>Male</td>\n",
       "      <td>1</td>\n",
       "      <td>28.0</td>\n",
       "      <td>0</td>\n",
       "      <td>1-2 Year</td>\n",
       "      <td>No</td>\n",
       "      <td>152.0</td>\n",
       "      <td>0</td>\n",
       "    </tr>\n",
       "    <tr>\n",
       "      <th>freq</th>\n",
       "      <td>205603</td>\n",
       "      <td>381431</td>\n",
       "      <td>107199.0</td>\n",
       "      <td>195211</td>\n",
       "      <td>200176</td>\n",
       "      <td>198501</td>\n",
       "      <td>137422.0</td>\n",
       "      <td>319553</td>\n",
       "    </tr>\n",
       "  </tbody>\n",
       "</table>\n",
       "</div>"
      ],
      "text/plain": [
       "        Gender  Driving_License  Region_Code  Previously_Insured Vehicle_Age  \\\n",
       "count   382154           382154     382154.0              382154      382154   \n",
       "unique       2                2         53.0                   2           3   \n",
       "top       Male                1         28.0                   0    1-2 Year   \n",
       "freq    205603           381431     107199.0              195211      200176   \n",
       "\n",
       "       Vehicle_Damage  Policy_Sales_Channel  Response  \n",
       "count          382154              382154.0    382154  \n",
       "unique              2                 156.0         2  \n",
       "top                No                 152.0         0  \n",
       "freq           198501              137422.0    319553  "
      ]
     },
     "execution_count": 224,
     "metadata": {},
     "output_type": "execute_result"
    }
   ],
   "source": [
    "# generate descriptive statistics for categorical columns (object type) in the dataframe\n",
    "df.describe(include=['O'])"
   ]
  },
  {
   "cell_type": "markdown",
   "metadata": {},
   "source": [
    "## Exploratory Data Analysis"
   ]
  },
  {
   "cell_type": "code",
   "execution_count": 248,
   "metadata": {},
   "outputs": [
    {
     "name": "stdout",
     "output_type": "stream",
     "text": [
      "<class 'pandas.core.frame.DataFrame'>\n",
      "RangeIndex: 382154 entries, 0 to 382153\n",
      "Columns: 225 entries, Age to Response_1\n",
      "dtypes: int32(225)\n",
      "memory usage: 328.0 MB\n"
     ]
    }
   ],
   "source": [
    "# convert categorical columns to dummy variables and ensure the dummy variables are integers (0 and 1)\n",
    "df_with_dummies = pd.get_dummies(df).astype(int)\n",
    "df_with_dummies.info()"
   ]
  },
  {
   "cell_type": "markdown",
   "metadata": {},
   "source": [
    "The histogram below shows the frequency of observations for 3 integer variables (Age, Annual_Premium and Vintage). "
   ]
  },
  {
   "cell_type": "code",
   "execution_count": 249,
   "metadata": {},
   "outputs": [
    {
     "data": {
      "image/png": "[encoded data removed]",
      "text/plain": [
       "<Figure size 2000x1500 with 4 Axes>"
      ]
     },
     "metadata": {},
     "output_type": "display_data"
    }
   ],
   "source": [
    "# distribution of all integer fetures\n",
    "df.hist(bins=200, figsize=(20, 15))\n",
    "plt.show()"
   ]
  },
  {
   "cell_type": "code",
   "execution_count": 284,
   "metadata": {},
   "outputs": [
    {
     "data": {
      "image/png": "[encoded data removed]",
      "text/plain": [
       "<Figure size 640x480 with 1 Axes>"
      ]
     },
     "metadata": {},
     "output_type": "display_data"
    }
   ],
   "source": [
    "# plot histogram for Response variable\n",
    "plt.hist(df['Response'], bins=10, edgecolor='black')\n",
    "plt.xlabel('Values')\n",
    "plt.ylabel('Frequency')\n",
    "plt.title('Histogram of Response Variable')\n",
    "plt.show()"
   ]
  },
  {
   "cell_type": "markdown",
   "metadata": {},
   "source": [
    "The histogram above shows that class '0' outweighs class '1', indicating that the data is imbalanced."
   ]
  },
  {
   "cell_type": "markdown",
   "metadata": {},
   "source": [
    "Boxplot shows below the spread of the data and highlights the outliers. Any points outside the \"whiskers\" are considered outliers."
   ]
  },
  {
   "cell_type": "code",
   "execution_count": 250,
   "metadata": {},
   "outputs": [
    {
     "data": {
      "image/png": "[encoded data removed]",
      "text/plain": [
       "<Figure size 640x480 with 1 Axes>"
      ]
     },
     "metadata": {},
     "output_type": "display_data"
    },
    {
     "data": {
      "image/png": "[encoded data removed]",
      "text/plain": [
       "<Figure size 640x480 with 1 Axes>"
      ]
     },
     "metadata": {},
     "output_type": "display_data"
    }
   ],
   "source": [
    "# plotting boxplot for 'Age' and 'Vintage' columns\n",
    "df_with_dummies[['Age', 'Vintage']].boxplot()\n",
    "plt.title('Boxplot of Age and Vintage')\n",
    "plt.ylabel('Values')\n",
    "plt.show()\n",
    "\n",
    "# plotting boxplot for 'Annual_Premium' column\n",
    "df_with_dummies[['Annual_Premium']].boxplot()\n",
    "plt.title('Boxplot of Annual_Premium')\n",
    "plt.ylabel('Values')\n",
    "plt.show()\n"
   ]
  },
  {
   "cell_type": "code",
   "execution_count": 251,
   "metadata": {},
   "outputs": [
    {
     "name": "stdout",
     "output_type": "stream",
     "text": [
      "Skewness before transformation: 1.7204514610105255\n",
      "Skewness after transformation: -1.5114875806162704\n"
     ]
    }
   ],
   "source": [
    "# check skewness for 'Annual_Premium' before transformation\n",
    "print(\"Skewness before transformation:\", df_with_dummies['Annual_Premium'].skew())\n",
    "\n",
    "# log transform the feature to address and resolve skewnesss, adding 1 to avoid log(0)\n",
    "df_with_dummies['Annual_Premium_Log_Feature'] = np.log(df_with_dummies['Annual_Premium'] + 1)  \n",
    "\n",
    "# check skewness after transformation\n",
    "print(\"Skewness after transformation:\", df_with_dummies['Annual_Premium_Log_Feature'].skew())"
   ]
  },
  {
   "cell_type": "code",
   "execution_count": 252,
   "metadata": {},
   "outputs": [
    {
     "data": {
      "image/png": "[encoded data removed]",
      "text/plain": [
       "<Figure size 640x480 with 1 Axes>"
      ]
     },
     "metadata": {},
     "output_type": "display_data"
    }
   ],
   "source": [
    "# histogram after transformation for 'Annual_Premium'\n",
    "plt.hist(df_with_dummies['Annual_Premium_Log_Feature'], bins=200)\n",
    "plt.title('Histogram of Log-Transformed Annual_Premium')\n",
    "plt.show()"
   ]
  },
  {
   "cell_type": "code",
   "execution_count": 253,
   "metadata": {},
   "outputs": [
    {
     "name": "stdout",
     "output_type": "stream",
     "text": [
      "Skewness before transformation: 0.6968803705160445\n",
      "Skewness after transformation: 0.22796931297394193\n"
     ]
    }
   ],
   "source": [
    "# check skewness for 'Age' before transformation\n",
    "print(\"Skewness before transformation:\", df_with_dummies['Age'].skew())\n",
    "\n",
    "# log transform the feature, adding 1 to avoid log(0)\n",
    "df_with_dummies['Age_Log_Feature'] = np.log(df_with_dummies['Age'] + 1)  \n",
    "\n",
    "# check skewness after transformation\n",
    "print(\"Skewness after transformation:\", df_with_dummies['Age_Log_Feature'].skew())"
   ]
  },
  {
   "cell_type": "code",
   "execution_count": 254,
   "metadata": {},
   "outputs": [
    {
     "data": {
      "image/png": "[encoded data removed]",
      "text/plain": [
       "<Figure size 640x480 with 1 Axes>"
      ]
     },
     "metadata": {},
     "output_type": "display_data"
    }
   ],
   "source": [
    "# histogram after transformation for 'Age'\n",
    "plt.hist(df_with_dummies['Age_Log_Feature'], bins=200)\n",
    "plt.title('Histogram of Log-Transformed Age')\n",
    "plt.show()"
   ]
  },
  {
   "cell_type": "code",
   "execution_count": 255,
   "metadata": {},
   "outputs": [],
   "source": [
    "# drop initial columns after applying the log transform\n",
    "df_with_dummies = df_with_dummies.drop(columns=['Age', 'Annual_Premium'])"
   ]
  },
  {
   "cell_type": "code",
   "execution_count": 258,
   "metadata": {},
   "outputs": [
    {
     "name": "stdout",
     "output_type": "stream",
     "text": [
      "Original data shape: (382154, 225)\n",
      "Data shape after removing outliers using IQR: (316901, 225)\n"
     ]
    }
   ],
   "source": [
    "# remove outliers\n",
    "# calculate quartiles using np.percentile\n",
    "Q1 = np.percentile(df_with_dummies['Annual_Premium_Log_Feature'], 25)\n",
    "Q3 = np.percentile(df_with_dummies['Annual_Premium_Log_Feature'], 75)\n",
    "\n",
    "# calculate IQR\n",
    "IQR = Q3 - Q1\n",
    "\n",
    "# define thresholds for outliers\n",
    "lower_threshold = Q1 - 1.5 * IQR\n",
    "upper_threshold = Q3 + 1.5 * IQR\n",
    "\n",
    "# identify outliers\n",
    "outliers_iqr = (df_with_dummies['Annual_Premium_Log_Feature'] < lower_threshold) | (df_with_dummies['Annual_Premium_Log_Feature'] > upper_threshold)\n",
    "\n",
    "# remove outliers\n",
    "data_cleaned_iqr = df_with_dummies[~outliers_iqr]\n",
    "\n",
    "print(f\"Original data shape: {df_with_dummies.shape}\")\n",
    "print(f\"Data shape after removing outliers using IQR: {data_cleaned_iqr.shape}\")"
   ]
  },
  {
   "cell_type": "code",
   "execution_count": 260,
   "metadata": {},
   "outputs": [
    {
     "data": {
      "image/png": "[encoded data removed]",
      "text/plain": [
       "<Figure size 640x480 with 1 Axes>"
      ]
     },
     "metadata": {},
     "output_type": "display_data"
    }
   ],
   "source": [
    "# plotting boxplot for 'Annual_Premium' column after removing outliers\n",
    "\n",
    "data_cleaned_iqr[['Annual_Premium_Log_Feature']].boxplot()\n",
    "plt.title('Boxplot of Annual_Premium')\n",
    "plt.ylabel('Values')\n",
    "plt.show()"
   ]
  },
  {
   "cell_type": "markdown",
   "metadata": {},
   "source": [
    "After removing 65,253 outliers from the Annual_Premium column using the current method (Interquartile Range), we still observe the presence of outliers in the data. For the continuation of our analysis, we will proceed with the remaining outliers included in the dataset. If necessary, we can explore alternative outlier detection methods to further refine our outlier removal process."
   ]
  },
  {
   "cell_type": "code",
   "execution_count": 261,
   "metadata": {},
   "outputs": [
    {
     "name": "stdout",
     "output_type": "stream",
     "text": [
      "Variables with strong correlations:\n",
      "Index(['Gender_Female', 'Gender_Male', 'Driving_License_0',\n",
      "       'Driving_License_1', 'Region_Code_26.0', 'Region_Code_28.0',\n",
      "       'Region_Code_50.0', 'Previously_Insured_0', 'Previously_Insured_1',\n",
      "       'Vehicle_Age_1-2 Year', 'Vehicle_Age_< 1 Year', 'Vehicle_Damage_No',\n",
      "       'Vehicle_Damage_Yes', 'Policy_Sales_Channel_8.0',\n",
      "       'Policy_Sales_Channel_22.0', 'Policy_Sales_Channel_26.0',\n",
      "       'Policy_Sales_Channel_124.0', 'Policy_Sales_Channel_152.0',\n",
      "       'Response_0', 'Response_1', 'Annual_Premium_Log_Feature',\n",
      "       'Age_Log_Feature'],\n",
      "      dtype='object')\n"
     ]
    }
   ],
   "source": [
    "# calculate correlation matrix and identify variables with strong correlations above the specified threshold\n",
    "correlation_matrix = data_cleaned_iqr.corr()\n",
    "\n",
    "threshold = 0.3\n",
    "\n",
    "strong_correlations = correlation_matrix[abs(correlation_matrix) >= threshold]\n",
    "strong_correlations = strong_correlations[strong_correlations < 1.0]  # Remove self-correlation\n",
    "\n",
    "# filter to get a list of variables that have at least one strong correlation\n",
    "strong_variables = strong_correlations.unstack().dropna().to_frame().index.get_level_values(0).unique()\n",
    "\n",
    "print(\"Variables with strong correlations:\")\n",
    "print(strong_variables)"
   ]
  },
  {
   "cell_type": "markdown",
   "metadata": {},
   "source": [
    "We will keep only the above columns that have strong correlation, in the new dataset"
   ]
  },
  {
   "cell_type": "code",
   "execution_count": 290,
   "metadata": {},
   "outputs": [],
   "source": [
    "# select specific columns from 'data_cleaned_iqr' dataframe\n",
    "columns = data_cleaned_iqr[['Gender_Female', 'Gender_Male', 'Driving_License_0',\n",
    "       'Driving_License_1', 'Region_Code_26.0', 'Region_Code_28.0',\n",
    "       'Region_Code_50.0', 'Previously_Insured_0', 'Previously_Insured_1',\n",
    "       'Vehicle_Age_1-2 Year', 'Vehicle_Age_< 1 Year', 'Vehicle_Damage_No',\n",
    "       'Vehicle_Damage_Yes', 'Policy_Sales_Channel_8.0',\n",
    "       'Policy_Sales_Channel_22.0', 'Policy_Sales_Channel_26.0',\n",
    "       'Policy_Sales_Channel_124.0', 'Policy_Sales_Channel_152.0',\n",
    "       'Response_0', 'Response_1', 'Annual_Premium_Log_Feature',\n",
    "       'Age_Log_Feature']]"
   ]
  },
  {
   "cell_type": "code",
   "execution_count": 291,
   "metadata": {},
   "outputs": [
    {
     "data": {
      "text/html": [
       "<div>\n",
       "<style scoped>\n",
       "    .dataframe tbody tr th:only-of-type {\n",
       "        vertical-align: middle;\n",
       "    }\n",
       "\n",
       "    .dataframe tbody tr th {\n",
       "        vertical-align: top;\n",
       "    }\n",
       "\n",
       "    .dataframe thead th {\n",
       "        text-align: right;\n",
       "    }\n",
       "</style>\n",
       "<table border=\"1\" class=\"dataframe\">\n",
       "  <thead>\n",
       "    <tr style=\"text-align: right;\">\n",
       "      <th></th>\n",
       "      <th>Gender_Female</th>\n",
       "      <th>Gender_Male</th>\n",
       "      <th>Driving_License_0</th>\n",
       "      <th>Driving_License_1</th>\n",
       "      <th>Region_Code_26.0</th>\n",
       "      <th>Region_Code_28.0</th>\n",
       "      <th>Region_Code_50.0</th>\n",
       "      <th>Previously_Insured_0</th>\n",
       "      <th>Previously_Insured_1</th>\n",
       "      <th>Vehicle_Age_1-2 Year</th>\n",
       "      <th>...</th>\n",
       "      <th>Vehicle_Damage_Yes</th>\n",
       "      <th>Policy_Sales_Channel_8.0</th>\n",
       "      <th>Policy_Sales_Channel_22.0</th>\n",
       "      <th>Policy_Sales_Channel_26.0</th>\n",
       "      <th>Policy_Sales_Channel_124.0</th>\n",
       "      <th>Policy_Sales_Channel_152.0</th>\n",
       "      <th>Response_0</th>\n",
       "      <th>Response_1</th>\n",
       "      <th>Annual_Premium_Log_Feature</th>\n",
       "      <th>Age_Log_Feature</th>\n",
       "    </tr>\n",
       "  </thead>\n",
       "  <tbody>\n",
       "    <tr>\n",
       "      <th>1</th>\n",
       "      <td>0</td>\n",
       "      <td>1</td>\n",
       "      <td>0</td>\n",
       "      <td>1</td>\n",
       "      <td>0</td>\n",
       "      <td>1</td>\n",
       "      <td>0</td>\n",
       "      <td>1</td>\n",
       "      <td>0</td>\n",
       "      <td>1</td>\n",
       "      <td>...</td>\n",
       "      <td>1</td>\n",
       "      <td>0</td>\n",
       "      <td>0</td>\n",
       "      <td>1</td>\n",
       "      <td>0</td>\n",
       "      <td>0</td>\n",
       "      <td>1</td>\n",
       "      <td>0</td>\n",
       "      <td>10.676554</td>\n",
       "      <td>3.761200</td>\n",
       "    </tr>\n",
       "    <tr>\n",
       "      <th>2</th>\n",
       "      <td>1</td>\n",
       "      <td>0</td>\n",
       "      <td>0</td>\n",
       "      <td>1</td>\n",
       "      <td>0</td>\n",
       "      <td>0</td>\n",
       "      <td>0</td>\n",
       "      <td>1</td>\n",
       "      <td>0</td>\n",
       "      <td>1</td>\n",
       "      <td>...</td>\n",
       "      <td>1</td>\n",
       "      <td>0</td>\n",
       "      <td>0</td>\n",
       "      <td>0</td>\n",
       "      <td>1</td>\n",
       "      <td>0</td>\n",
       "      <td>1</td>\n",
       "      <td>0</td>\n",
       "      <td>10.486876</td>\n",
       "      <td>4.204693</td>\n",
       "    </tr>\n",
       "    <tr>\n",
       "      <th>3</th>\n",
       "      <td>1</td>\n",
       "      <td>0</td>\n",
       "      <td>0</td>\n",
       "      <td>1</td>\n",
       "      <td>0</td>\n",
       "      <td>0</td>\n",
       "      <td>0</td>\n",
       "      <td>1</td>\n",
       "      <td>0</td>\n",
       "      <td>0</td>\n",
       "      <td>...</td>\n",
       "      <td>0</td>\n",
       "      <td>0</td>\n",
       "      <td>0</td>\n",
       "      <td>0</td>\n",
       "      <td>0</td>\n",
       "      <td>1</td>\n",
       "      <td>1</td>\n",
       "      <td>0</td>\n",
       "      <td>10.227236</td>\n",
       "      <td>3.135494</td>\n",
       "    </tr>\n",
       "    <tr>\n",
       "      <th>4</th>\n",
       "      <td>0</td>\n",
       "      <td>1</td>\n",
       "      <td>0</td>\n",
       "      <td>1</td>\n",
       "      <td>0</td>\n",
       "      <td>0</td>\n",
       "      <td>0</td>\n",
       "      <td>0</td>\n",
       "      <td>1</td>\n",
       "      <td>0</td>\n",
       "      <td>...</td>\n",
       "      <td>0</td>\n",
       "      <td>0</td>\n",
       "      <td>0</td>\n",
       "      <td>0</td>\n",
       "      <td>0</td>\n",
       "      <td>1</td>\n",
       "      <td>1</td>\n",
       "      <td>0</td>\n",
       "      <td>10.275878</td>\n",
       "      <td>3.367296</td>\n",
       "    </tr>\n",
       "    <tr>\n",
       "      <th>5</th>\n",
       "      <td>1</td>\n",
       "      <td>0</td>\n",
       "      <td>0</td>\n",
       "      <td>1</td>\n",
       "      <td>0</td>\n",
       "      <td>0</td>\n",
       "      <td>0</td>\n",
       "      <td>0</td>\n",
       "      <td>1</td>\n",
       "      <td>0</td>\n",
       "      <td>...</td>\n",
       "      <td>0</td>\n",
       "      <td>0</td>\n",
       "      <td>0</td>\n",
       "      <td>0</td>\n",
       "      <td>0</td>\n",
       "      <td>1</td>\n",
       "      <td>1</td>\n",
       "      <td>0</td>\n",
       "      <td>10.238351</td>\n",
       "      <td>3.258097</td>\n",
       "    </tr>\n",
       "    <tr>\n",
       "      <th>...</th>\n",
       "      <td>...</td>\n",
       "      <td>...</td>\n",
       "      <td>...</td>\n",
       "      <td>...</td>\n",
       "      <td>...</td>\n",
       "      <td>...</td>\n",
       "      <td>...</td>\n",
       "      <td>...</td>\n",
       "      <td>...</td>\n",
       "      <td>...</td>\n",
       "      <td>...</td>\n",
       "      <td>...</td>\n",
       "      <td>...</td>\n",
       "      <td>...</td>\n",
       "      <td>...</td>\n",
       "      <td>...</td>\n",
       "      <td>...</td>\n",
       "      <td>...</td>\n",
       "      <td>...</td>\n",
       "      <td>...</td>\n",
       "      <td>...</td>\n",
       "    </tr>\n",
       "    <tr>\n",
       "      <th>382148</th>\n",
       "      <td>0</td>\n",
       "      <td>1</td>\n",
       "      <td>0</td>\n",
       "      <td>1</td>\n",
       "      <td>0</td>\n",
       "      <td>0</td>\n",
       "      <td>0</td>\n",
       "      <td>1</td>\n",
       "      <td>0</td>\n",
       "      <td>1</td>\n",
       "      <td>...</td>\n",
       "      <td>1</td>\n",
       "      <td>0</td>\n",
       "      <td>0</td>\n",
       "      <td>0</td>\n",
       "      <td>1</td>\n",
       "      <td>0</td>\n",
       "      <td>1</td>\n",
       "      <td>0</td>\n",
       "      <td>10.397421</td>\n",
       "      <td>3.871201</td>\n",
       "    </tr>\n",
       "    <tr>\n",
       "      <th>382149</th>\n",
       "      <td>0</td>\n",
       "      <td>1</td>\n",
       "      <td>0</td>\n",
       "      <td>1</td>\n",
       "      <td>0</td>\n",
       "      <td>0</td>\n",
       "      <td>0</td>\n",
       "      <td>1</td>\n",
       "      <td>0</td>\n",
       "      <td>0</td>\n",
       "      <td>...</td>\n",
       "      <td>1</td>\n",
       "      <td>0</td>\n",
       "      <td>0</td>\n",
       "      <td>0</td>\n",
       "      <td>0</td>\n",
       "      <td>1</td>\n",
       "      <td>1</td>\n",
       "      <td>0</td>\n",
       "      <td>10.083264</td>\n",
       "      <td>3.218876</td>\n",
       "    </tr>\n",
       "    <tr>\n",
       "      <th>382151</th>\n",
       "      <td>0</td>\n",
       "      <td>1</td>\n",
       "      <td>0</td>\n",
       "      <td>1</td>\n",
       "      <td>0</td>\n",
       "      <td>1</td>\n",
       "      <td>0</td>\n",
       "      <td>1</td>\n",
       "      <td>0</td>\n",
       "      <td>1</td>\n",
       "      <td>...</td>\n",
       "      <td>1</td>\n",
       "      <td>0</td>\n",
       "      <td>0</td>\n",
       "      <td>1</td>\n",
       "      <td>0</td>\n",
       "      <td>0</td>\n",
       "      <td>1</td>\n",
       "      <td>0</td>\n",
       "      <td>10.607674</td>\n",
       "      <td>3.828641</td>\n",
       "    </tr>\n",
       "    <tr>\n",
       "      <th>382152</th>\n",
       "      <td>1</td>\n",
       "      <td>0</td>\n",
       "      <td>0</td>\n",
       "      <td>1</td>\n",
       "      <td>0</td>\n",
       "      <td>1</td>\n",
       "      <td>0</td>\n",
       "      <td>0</td>\n",
       "      <td>1</td>\n",
       "      <td>0</td>\n",
       "      <td>...</td>\n",
       "      <td>0</td>\n",
       "      <td>0</td>\n",
       "      <td>0</td>\n",
       "      <td>0</td>\n",
       "      <td>0</td>\n",
       "      <td>1</td>\n",
       "      <td>1</td>\n",
       "      <td>0</td>\n",
       "      <td>10.141756</td>\n",
       "      <td>3.367296</td>\n",
       "    </tr>\n",
       "    <tr>\n",
       "      <th>382153</th>\n",
       "      <td>1</td>\n",
       "      <td>0</td>\n",
       "      <td>0</td>\n",
       "      <td>1</td>\n",
       "      <td>0</td>\n",
       "      <td>0</td>\n",
       "      <td>0</td>\n",
       "      <td>0</td>\n",
       "      <td>1</td>\n",
       "      <td>0</td>\n",
       "      <td>...</td>\n",
       "      <td>0</td>\n",
       "      <td>0</td>\n",
       "      <td>0</td>\n",
       "      <td>0</td>\n",
       "      <td>0</td>\n",
       "      <td>1</td>\n",
       "      <td>1</td>\n",
       "      <td>0</td>\n",
       "      <td>10.322099</td>\n",
       "      <td>3.401197</td>\n",
       "    </tr>\n",
       "  </tbody>\n",
       "</table>\n",
       "<p>316901 rows × 22 columns</p>\n",
       "</div>"
      ],
      "text/plain": [
       "        Gender_Female  Gender_Male  Driving_License_0  Driving_License_1  \\\n",
       "1                   0            1                  0                  1   \n",
       "2                   1            0                  0                  1   \n",
       "3                   1            0                  0                  1   \n",
       "4                   0            1                  0                  1   \n",
       "5                   1            0                  0                  1   \n",
       "...               ...          ...                ...                ...   \n",
       "382148              0            1                  0                  1   \n",
       "382149              0            1                  0                  1   \n",
       "382151              0            1                  0                  1   \n",
       "382152              1            0                  0                  1   \n",
       "382153              1            0                  0                  1   \n",
       "\n",
       "        Region_Code_26.0  Region_Code_28.0  Region_Code_50.0  \\\n",
       "1                      0                 1                 0   \n",
       "2                      0                 0                 0   \n",
       "3                      0                 0                 0   \n",
       "4                      0                 0                 0   \n",
       "5                      0                 0                 0   \n",
       "...                  ...               ...               ...   \n",
       "382148                 0                 0                 0   \n",
       "382149                 0                 0                 0   \n",
       "382151                 0                 1                 0   \n",
       "382152                 0                 1                 0   \n",
       "382153                 0                 0                 0   \n",
       "\n",
       "        Previously_Insured_0  Previously_Insured_1  Vehicle_Age_1-2 Year  ...  \\\n",
       "1                          1                     0                     1  ...   \n",
       "2                          1                     0                     1  ...   \n",
       "3                          1                     0                     0  ...   \n",
       "4                          0                     1                     0  ...   \n",
       "5                          0                     1                     0  ...   \n",
       "...                      ...                   ...                   ...  ...   \n",
       "382148                     1                     0                     1  ...   \n",
       "382149                     1                     0                     0  ...   \n",
       "382151                     1                     0                     1  ...   \n",
       "382152                     0                     1                     0  ...   \n",
       "382153                     0                     1                     0  ...   \n",
       "\n",
       "        Vehicle_Damage_Yes  Policy_Sales_Channel_8.0  \\\n",
       "1                        1                         0   \n",
       "2                        1                         0   \n",
       "3                        0                         0   \n",
       "4                        0                         0   \n",
       "5                        0                         0   \n",
       "...                    ...                       ...   \n",
       "382148                   1                         0   \n",
       "382149                   1                         0   \n",
       "382151                   1                         0   \n",
       "382152                   0                         0   \n",
       "382153                   0                         0   \n",
       "\n",
       "        Policy_Sales_Channel_22.0  Policy_Sales_Channel_26.0  \\\n",
       "1                               0                          1   \n",
       "2                               0                          0   \n",
       "3                               0                          0   \n",
       "4                               0                          0   \n",
       "5                               0                          0   \n",
       "...                           ...                        ...   \n",
       "382148                          0                          0   \n",
       "382149                          0                          0   \n",
       "382151                          0                          1   \n",
       "382152                          0                          0   \n",
       "382153                          0                          0   \n",
       "\n",
       "        Policy_Sales_Channel_124.0  Policy_Sales_Channel_152.0  Response_0  \\\n",
       "1                                0                           0           1   \n",
       "2                                1                           0           1   \n",
       "3                                0                           1           1   \n",
       "4                                0                           1           1   \n",
       "5                                0                           1           1   \n",
       "...                            ...                         ...         ...   \n",
       "382148                           1                           0           1   \n",
       "382149                           0                           1           1   \n",
       "382151                           0                           0           1   \n",
       "382152                           0                           1           1   \n",
       "382153                           0                           1           1   \n",
       "\n",
       "        Response_1  Annual_Premium_Log_Feature  Age_Log_Feature  \n",
       "1                0                   10.676554         3.761200  \n",
       "2                0                   10.486876         4.204693  \n",
       "3                0                   10.227236         3.135494  \n",
       "4                0                   10.275878         3.367296  \n",
       "5                0                   10.238351         3.258097  \n",
       "...            ...                         ...              ...  \n",
       "382148           0                   10.397421         3.871201  \n",
       "382149           0                   10.083264         3.218876  \n",
       "382151           0                   10.607674         3.828641  \n",
       "382152           0                   10.141756         3.367296  \n",
       "382153           0                   10.322099         3.401197  \n",
       "\n",
       "[316901 rows x 22 columns]"
      ]
     },
     "execution_count": 291,
     "metadata": {},
     "output_type": "execute_result"
    }
   ],
   "source": [
    "# create a new dataframe 'df_cleaned' using the selected columns\n",
    "df_cleaned = pd.DataFrame(columns)\n",
    "df_cleaned"
   ]
  },
  {
   "cell_type": "code",
   "execution_count": 292,
   "metadata": {},
   "outputs": [
    {
     "name": "stdout",
     "output_type": "stream",
     "text": [
      "<class 'pandas.core.frame.DataFrame'>\n",
      "Index: 316901 entries, 1 to 382153\n",
      "Data columns (total 22 columns):\n",
      " #   Column                      Non-Null Count   Dtype  \n",
      "---  ------                      --------------   -----  \n",
      " 0   Gender_Female               316901 non-null  int32  \n",
      " 1   Gender_Male                 316901 non-null  int32  \n",
      " 2   Driving_License_0           316901 non-null  int32  \n",
      " 3   Driving_License_1           316901 non-null  int32  \n",
      " 4   Region_Code_26.0            316901 non-null  int32  \n",
      " 5   Region_Code_28.0            316901 non-null  int32  \n",
      " 6   Region_Code_50.0            316901 non-null  int32  \n",
      " 7   Previously_Insured_0        316901 non-null  int32  \n",
      " 8   Previously_Insured_1        316901 non-null  int32  \n",
      " 9   Vehicle_Age_1-2 Year        316901 non-null  int32  \n",
      " 10  Vehicle_Age_< 1 Year        316901 non-null  int32  \n",
      " 11  Vehicle_Damage_No           316901 non-null  int32  \n",
      " 12  Vehicle_Damage_Yes          316901 non-null  int32  \n",
      " 13  Policy_Sales_Channel_8.0    316901 non-null  int32  \n",
      " 14  Policy_Sales_Channel_22.0   316901 non-null  int32  \n",
      " 15  Policy_Sales_Channel_26.0   316901 non-null  int32  \n",
      " 16  Policy_Sales_Channel_124.0  316901 non-null  int32  \n",
      " 17  Policy_Sales_Channel_152.0  316901 non-null  int32  \n",
      " 18  Response_0                  316901 non-null  int32  \n",
      " 19  Response_1                  316901 non-null  int32  \n",
      " 20  Annual_Premium_Log_Feature  316901 non-null  float64\n",
      " 21  Age_Log_Feature             316901 non-null  float64\n",
      "dtypes: float64(2), int32(20)\n",
      "memory usage: 31.4 MB\n"
     ]
    }
   ],
   "source": [
    "# summary information about the DataFrame df_cleaned\n",
    "df_cleaned.info()"
   ]
  },
  {
   "cell_type": "code",
   "execution_count": 293,
   "metadata": {},
   "outputs": [],
   "source": [
    "# dropped column\n",
    "df_cleaned = df_cleaned.drop(['Response_0'], axis=1)\n"
   ]
  },
  {
   "cell_type": "markdown",
   "metadata": {},
   "source": [
    "# Model Building and Evaluation\n"
   ]
  },
  {
   "cell_type": "markdown",
   "metadata": {},
   "source": [
    "Predicting whether a health insurance policyholder will be interested in buying vehicle insurance.\\\n",
    "Positive Class: Policyholders interested in buying vehicle insurance.\\\n",
    "Negative Class: Policyholders not interested in buying vehicle insurance."
   ]
  },
  {
   "cell_type": "code",
   "execution_count": 296,
   "metadata": {},
   "outputs": [],
   "source": [
    "# prepare feature matrix X by excluding the target variable 'Response_1',\n",
    "# and target variable y by selecting only 'Response_1'\n",
    "X = df_cleaned.drop(['Response_1'], axis=1) \n",
    "y = df_cleaned[['Response_1']]  "
   ]
  },
  {
   "cell_type": "markdown",
   "metadata": {},
   "source": [
    "Since the target variable (Response) is imbalanced, we'll use the SMOTE technique to address this issue. SMOTE works effectively with binary variables, so we'll adjust our response variable accordingly. Since the levels of the response variable are mutually exclusive, we'll drop one level, Response_0 in this case."
   ]
  },
  {
   "cell_type": "code",
   "execution_count": 297,
   "metadata": {},
   "outputs": [],
   "source": [
    "# split the dataset into training and testing sets, apply SMOTE to balance the training set\n",
    "X_train, X_test, y_train, y_test = train_test_split(X, y, test_size=0.2, random_state=42)\n",
    "\n",
    "smote = SMOTE(random_state=42)\n",
    "X_train_resampled, y_train_resampled = smote.fit_resample(X_train, y_train)"
   ]
  },
  {
   "cell_type": "code",
   "execution_count": 302,
   "metadata": {},
   "outputs": [
    {
     "name": "stderr",
     "output_type": "stream",
     "text": [
      "c:\\Users\\shahr\\.conda\\envs\\dsi_participant\\lib\\site-packages\\sklearn\\utils\\validation.py:1300: DataConversionWarning: A column-vector y was passed when a 1d array was expected. Please change the shape of y to (n_samples, ), for example using ravel().\n",
      "  y = column_or_1d(y, warn=True)\n",
      "c:\\Users\\shahr\\.conda\\envs\\dsi_participant\\lib\\site-packages\\sklearn\\linear_model\\_logistic.py:469: ConvergenceWarning: lbfgs failed to converge (status=1):\n",
      "STOP: TOTAL NO. of ITERATIONS REACHED LIMIT.\n",
      "\n",
      "Increase the number of iterations (max_iter) or scale the data as shown in:\n",
      "    https://scikit-learn.org/stable/modules/preprocessing.html\n",
      "Please also refer to the documentation for alternative solver options:\n",
      "    https://scikit-learn.org/stable/modules/linear_model.html#logistic-regression\n",
      "  n_iter_i = _check_optimize_result(\n"
     ]
    }
   ],
   "source": [
    "# train the model\n",
    "lr = LogisticRegression()\n",
    "lr.fit(X_train, y_train)\n",
    "\n",
    "# make predictions\n",
    "y_pred = lr.predict(X_test)"
   ]
  },
  {
   "cell_type": "code",
   "execution_count": 301,
   "metadata": {},
   "outputs": [
    {
     "name": "stdout",
     "output_type": "stream",
     "text": [
      "Accuracy: 0.8419557911677001\n",
      "Precision: 0.5148660582867236\n",
      "Recall: 0.17286024906107927\n",
      "F1 Score: 0.25882352941176473\n",
      "ROC AUC: 0.5709597229384401\n"
     ]
    }
   ],
   "source": [
    "# evaluate the model using SMOTE for resampling\n",
    "print('Accuracy:', accuracy_score(y_test, y_pred))\n",
    "print('Precision:', precision_score(y_test, y_pred))\n",
    "print('Recall:', recall_score(y_test, y_pred))\n",
    "print('F1 Score:', f1_score(y_test, y_pred))\n",
    "print('ROC AUC:', roc_auc_score(y_test, y_pred))"
   ]
  },
  {
   "cell_type": "markdown",
   "metadata": {},
   "source": [
    "Will use undersampling method to see if the performance of the model increase."
   ]
  },
  {
   "cell_type": "code",
   "execution_count": 303,
   "metadata": {},
   "outputs": [],
   "source": [
    "# importing RandomUnderSampler for undersampling the majority class\n",
    "from imblearn.under_sampling import RandomUnderSampler"
   ]
  },
  {
   "cell_type": "code",
   "execution_count": 304,
   "metadata": {},
   "outputs": [],
   "source": [
    "# prepare feature matrix X_US by excluding the target variable 'Response_1',\n",
    "# and prepare target variable y_US by selecting only 'Response_1'\n",
    "X_US = df_cleaned.drop(['Response_1'], axis=1) \n",
    "y_US = df_cleaned[['Response_1']]"
   ]
  },
  {
   "cell_type": "code",
   "execution_count": 305,
   "metadata": {},
   "outputs": [],
   "source": [
    "# instantiate RandomUnderSampler for undersampling the majority class,\n",
    "# and resample the training set using RandomUnderSampler\n",
    "under_sampler = RandomUnderSampler(random_state=42)\n",
    "X_train_resampled_US, y_train_resampled_US = under_sampler.fit_resample(X_train, y_train)"
   ]
  },
  {
   "cell_type": "code",
   "execution_count": 306,
   "metadata": {},
   "outputs": [
    {
     "name": "stderr",
     "output_type": "stream",
     "text": [
      "c:\\Users\\shahr\\.conda\\envs\\dsi_participant\\lib\\site-packages\\sklearn\\utils\\validation.py:1300: DataConversionWarning: A column-vector y was passed when a 1d array was expected. Please change the shape of y to (n_samples, ), for example using ravel().\n",
      "  y = column_or_1d(y, warn=True)\n",
      "c:\\Users\\shahr\\.conda\\envs\\dsi_participant\\lib\\site-packages\\sklearn\\linear_model\\_logistic.py:469: ConvergenceWarning: lbfgs failed to converge (status=1):\n",
      "STOP: TOTAL NO. of ITERATIONS REACHED LIMIT.\n",
      "\n",
      "Increase the number of iterations (max_iter) or scale the data as shown in:\n",
      "    https://scikit-learn.org/stable/modules/preprocessing.html\n",
      "Please also refer to the documentation for alternative solver options:\n",
      "    https://scikit-learn.org/stable/modules/linear_model.html#logistic-regression\n",
      "  n_iter_i = _check_optimize_result(\n"
     ]
    }
   ],
   "source": [
    "# train the model\n",
    "lr = LogisticRegression()\n",
    "lr.fit(X_train_resampled_US, y_train_resampled_US)\n",
    "\n",
    "# make predictions\n",
    "y_pred = lr.predict(X_test)"
   ]
  },
  {
   "cell_type": "code",
   "execution_count": 307,
   "metadata": {},
   "outputs": [
    {
     "name": "stdout",
     "output_type": "stream",
     "text": [
      "Accuracy: 0.7581451854656759\n",
      "Precision: 0.39245469930243115\n",
      "Recall: 0.9397114054160901\n",
      "F1 Score: 0.5536759353617703\n",
      "ROC AUC: 0.8316828622747237\n"
     ]
    }
   ],
   "source": [
    "# evaluate the model using undersampling\n",
    "print('Accuracy:', accuracy_score(y_test, y_pred))\n",
    "print('Precision:', precision_score(y_test, y_pred))\n",
    "print('Recall:', recall_score(y_test, y_pred))\n",
    "print('F1 Score:', f1_score(y_test, y_pred))\n",
    "print('ROC AUC:', roc_auc_score(y_test, y_pred))"
   ]
  },
  {
   "cell_type": "markdown",
   "metadata": {},
   "source": [
    "Results after Undersampling:\n",
    "\n",
    "Accuracy: 0.7581\\\n",
    "Precision: 0.3925\\\n",
    "Recall: 0.9397\\\n",
    "F1 Score: 0.5537\\\n",
    "ROC AUC: 0.8317\n",
    "\n",
    "Previous Results after SMOTE:\n",
    "\n",
    "Accuracy: 0.8419\\\n",
    "Precision: 0.5149\\\n",
    "Recall: 0.1729\\\n",
    "F1 Score: 0.2588\\\n",
    "ROC AUC: 0.5710"
   ]
  },
  {
   "cell_type": "markdown",
   "metadata": {},
   "source": [
    "# Comparison and Interpretation:\n",
    "\n",
    "Undersampling shows higher recall and F1 score but lower accuracy and precision compared to SMOTE.\n",
    "\n",
    "SMOTE has better accuracy and precision but suffers from very low recall and F1 score.\n"
   ]
  },
  {
   "cell_type": "markdown",
   "metadata": {},
   "source": [
    "# Business Implications:\n",
    "\n",
    "Undersampling shows higher recall and F1 score but lower accuracy and precision compared to SMOTE.\n",
    "SMOTE has better accuracy and precision but suffers from very low recall and F1 score."
   ]
  },
  {
   "cell_type": "markdown",
   "metadata": {},
   "source": [
    "# Conclusion & Suggestions for Improvemnet:\n",
    "\n",
    "Undersampling is preferable when the goal is to capture as many potential buyers as possible, despite a higher false positive rate.\n",
    "SMOTE is better when it’s crucial to reduce false positives, even if it means missing many actual buyers.\n",
    "\n",
    "The current model shows varying performance based on different resampling methods. While undersampling achieves high recall, SMOTE offers better precision and accuracy. However, there's room for improvement in both approaches. We may try different resampling methods, perform thorough outlier removal, and use feature engineering to improve the performance of the model."
   ]
  }
 ],
 "metadata": {
  "kernelspec": {
   "display_name": "Python 3",
   "language": "python",
   "name": "python3"
  },
  "language_info": {
   "codemirror_mode": {
    "name": "ipython",
    "version": 3
   },
   "file_extension": ".py",
   "mimetype": "text/x-python",
   "name": "python",
   "nbconvert_exporter": "python",
   "pygments_lexer": "ipython3",
   "version": "3.9.15"
  }
 },
 "nbformat": 4,
 "nbformat_minor": 2
}
